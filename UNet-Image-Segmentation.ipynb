{
 "cells": [
  {
   "cell_type": "code",
   "execution_count": 1,
   "id": "65242e3b",
   "metadata": {},
   "outputs": [],
   "source": [
    "import torch\n",
    "import torch.nn as nn\n",
    "import torchvision.transforms.functional as TF\n",
    "import torchvision.transforms as T"
   ]
  },
  {
   "cell_type": "code",
   "execution_count": 2,
   "id": "e1649c00",
   "metadata": {},
   "outputs": [],
   "source": [
    "class DoubleConv(nn.Module):\n",
    "    def __init__(self, in_channels, out_channels):\n",
    "        super(DoubleConv, self).__init__()\n",
    "        self.conv = nn.Sequential(\n",
    "            nn.Conv2d(in_channels, out_channels, 3, 1, 1, bias=False),\n",
    "            nn.BatchNorm2d(out_channels),\n",
    "            nn.ReLU(inplace=True),\n",
    "            nn.Conv2d(out_channels, out_channels, 3, 1, 1, bias=False),\n",
    "            nn.BatchNorm2d(out_channels),\n",
    "            nn.ReLU(inplace=True),\n",
    "        )\n",
    "\n",
    "    def forward(self, x):\n",
    "        return self.conv(x)\n",
    "\n"
   ]
  },
  {
   "cell_type": "code",
   "execution_count": 3,
   "id": "1ee00e64",
   "metadata": {},
   "outputs": [],
   "source": [
    "class UNET(nn.Module):\n",
    "    def __init__(\n",
    "            self, in_channels=3, out_channels=1, features=[64, 128, 256, 512],\n",
    "    ):\n",
    "        super(UNET, self).__init__()\n",
    "        self.ups = nn.ModuleList()\n",
    "        self.downs = nn.ModuleList()\n",
    "        self.pool = nn.MaxPool2d(kernel_size=2, stride=2)\n",
    "\n",
    "        # Down part of UNET\n",
    "        for feature in features:\n",
    "            self.downs.append(DoubleConv(in_channels, feature))\n",
    "            in_channels = feature\n",
    "\n",
    "        # Up part of UNET\n",
    "        for feature in reversed(features):\n",
    "            self.ups.append(\n",
    "                nn.ConvTranspose2d(\n",
    "                    feature*2, feature, kernel_size=2, stride=2,\n",
    "                )\n",
    "            )\n",
    "            self.ups.append(DoubleConv(feature*2, feature))\n",
    "\n",
    "        self.bottleneck = DoubleConv(features[-1], features[-1]*2)\n",
    "        self.final_conv = nn.Conv2d(features[0], out_channels, kernel_size=1)\n",
    "\n",
    "    def forward(self, x):\n",
    "        skip_connections = []\n",
    "\n",
    "        for down in self.downs:\n",
    "            x = down(x)\n",
    "            skip_connections.append(x)\n",
    "            x = self.pool(x)\n",
    "\n",
    "        x = self.bottleneck(x)\n",
    "        skip_connections = skip_connections[::-1]\n",
    "\n",
    "        for idx in range(0, len(self.ups), 2):\n",
    "            x = self.ups[idx](x)\n",
    "            skip_connection = skip_connections[idx//2]\n",
    "\n",
    "            if x.shape != skip_connection.shape:\n",
    "                x = TF.resize(x, size=skip_connection.shape[2:])\n",
    "\n",
    "            concat_skip = torch.cat((skip_connection, x), dim=1)\n",
    "            x = self.ups[idx+1](concat_skip)\n",
    "\n",
    "        return self.final_conv(x)\n"
   ]
  },
  {
   "cell_type": "code",
   "execution_count": 4,
   "id": "270d0a22",
   "metadata": {},
   "outputs": [],
   "source": [
    "class Unet(torch.nn.Module):\n",
    "    def __init__(self):\n",
    "        super(Unet,self).__init__()\n",
    "        self.down1 = self.UnetDoubleConv(3,64)\n",
    "        self.down2 = self.UnetDoubleConv(64,128)\n",
    "        self.down3 = self.UnetDoubleConv(128,256)\n",
    "        self.down4 = self.UnetDoubleConv(256,512)\n",
    "        self.down5 = self.UnetDoubleConv(512,1024)\n",
    "        \n",
    "        self.up1 = self.UnetDoubleConv(64,82)\n",
    "        self.up2 = self.UnetDoubleConv(128,64)\n",
    "        self.up3 = self.UnetDoubleConv(256,128)\n",
    "        self.up4 = self.UnetDoubleConv(512,256)\n",
    "        self.up5 = self.UnetDoubleConv(1024,512)\n",
    "        \n",
    "        self.upConvT2 = self.UnetUpConv(128,64)\n",
    "        self.upConvT3 = self.UnetUpConv(256,128)\n",
    "        self.upConvT4 = self.UnetUpConv(512,256)\n",
    "        self.upConvT5 = self.UnetUpConv(1024,512)\n",
    "\n",
    "        self.softmax = torch.nn.Softmax(dim=1)\n",
    "\n",
    "        self.final = nn.Conv2d(82,82,1,padding='same')\n",
    "\n",
    "        \n",
    "    def UnetDoubleConv(self,in_channels,out_channels):\n",
    "        return nn.Sequential(\n",
    "            nn.Conv2d(in_channels,out_channels,3,padding='same'),\n",
    "            nn.BatchNorm2d(out_channels),\n",
    "            nn.ReLU(inplace=True),\n",
    "            nn.Conv2d(out_channels,out_channels,3, padding='same'),\n",
    "            nn.BatchNorm2d(out_channels),\n",
    "            nn.ReLU(inplace=True),\n",
    "        )\n",
    "    \n",
    "    def UnetUpConv(self,in_channels,out_channels):\n",
    "        return nn.Sequential(\n",
    "            nn.ConvTranspose2d(in_channels,out_channels,2,2),\n",
    "            nn.BatchNorm2d(out_channels),\n",
    "            nn.ReLU(inplace=True)\n",
    "        )\n",
    "            \n",
    "    \n",
    "    def forward(self,x):\n",
    "        convOut1 = self.down1(x)\n",
    "        maxPool1 = nn.MaxPool2d(2)(convOut1)\n",
    "        convOut2 = self.down2(maxPool1)\n",
    "        maxPool2 = nn.MaxPool2d(2)(convOut2)\n",
    "        convOut3 = self.down3(maxPool2)\n",
    "\n",
    "        upPool3 = self.upConvT3(convOut3)\n",
    "        upPool3Cat = torch.cat([upPool3,convOut2],dim=1)\n",
    "        incConvOut2 = self.up3(upPool3Cat)\n",
    "        upPool2 = self.upConvT2(incConvOut2)\n",
    "        upPool2Cat = torch.cat([upPool2,convOut1],dim=1)\n",
    "        incConvOut1 = self.up2(upPool2Cat)\n",
    "        \n",
    "        out1 = self.up1(incConvOut1)\n",
    "        out = self.final(out1)\n",
    "        \n",
    "        return(out)\n",
    "        \n"
   ]
  },
  {
   "cell_type": "code",
   "execution_count": 5,
   "id": "197c9fa2",
   "metadata": {},
   "outputs": [],
   "source": [
    "import numpy as np\n",
    "import matplotlib.pyplot as plt\n",
    "import os\n",
    "from PIL import Image\n",
    "import pickle\n",
    "import copy\n",
    "from torch.utils.data import Dataset, DataLoader\n",
    "import math\n",
    "\n",
    "def load_pickle(filename):\n",
    "    with open(filename, 'rb') as f:\n",
    "        return pickle.load(f)"
   ]
  },
  {
   "cell_type": "code",
   "execution_count": 6,
   "id": "6a5373cb",
   "metadata": {},
   "outputs": [],
   "source": [
    "training_data_dir = \"./training_data_filtered/training_data/v2.2\"\n",
    "split_dir = \"./training_data_filtered/training_data/splits/v2\""
   ]
  },
  {
   "cell_type": "code",
   "execution_count": 7,
   "id": "f58bdd81",
   "metadata": {},
   "outputs": [],
   "source": [
    "def get_split_files(split_name):\n",
    "    with open(split_dir + f\"/{split_name}.txt\", 'r') as f:\n",
    "        prefix = [os.path.join(training_data_dir, line.strip()) for line in f if line.strip()]\n",
    "        rgb = [p + \"_color_kinect.png\" for p in prefix]\n",
    "        depth = [p + \"_depth_kinect.png\" for p in prefix]\n",
    "        label = [p + \"_label_kinect.png\" for p in prefix]\n",
    "        meta = [p + \"_meta.pkl\" for p in prefix]\n",
    "    return rgb, depth, label, meta"
   ]
  },
  {
   "cell_type": "code",
   "execution_count": 8,
   "id": "0865af45",
   "metadata": {},
   "outputs": [],
   "source": [
    "from matplotlib.cm import get_cmap\n",
    "NUM_OBJECTS = 79\n",
    "cmap = get_cmap('rainbow', NUM_OBJECTS)\n",
    "COLOR_PALETTE = np.array([cmap(i)[:3] for i in range(NUM_OBJECTS + 3)])\n",
    "COLOR_PALETTE = np.array(COLOR_PALETTE * 255, dtype=np.uint8)\n",
    "COLOR_PALETTE[-3] = [119, 135, 150]\n",
    "COLOR_PALETTE[-2] = [176, 194, 216]\n",
    "COLOR_PALETTE[-1] = [255, 255, 225]"
   ]
  },
  {
   "cell_type": "code",
   "execution_count": 9,
   "id": "9e272c1d",
   "metadata": {},
   "outputs": [],
   "source": [
    "# from torchsummary import summary\n",
    "DEVICE = torch.device('cuda' if torch.cuda.is_available() else 'cpu')\n",
    "model = Unet().to(DEVICE)\n",
    "# summary(model, (3,180,320))"
   ]
  },
  {
   "cell_type": "code",
   "execution_count": 10,
   "id": "71e20648",
   "metadata": {},
   "outputs": [],
   "source": [
    "# hyper parameters\n",
    "\n",
    "IMAGE_HEIGHT = 360\n",
    "IMAGE_WIDTH = 640\n",
    "\n",
    "num_epochs = 4\n",
    "batch_size = 4\n",
    "learning_rate = 0.004\n",
    "\n",
    "# device config\n",
    "device = torch.device('cuda' if torch.cuda.is_available() else 'cpu')"
   ]
  },
  {
   "cell_type": "code",
   "execution_count": 11,
   "id": "4d95a63c",
   "metadata": {},
   "outputs": [],
   "source": [
    "import os\n",
    "from PIL import Image\n",
    "from torch.utils.data import Dataset\n",
    "import numpy as np\n",
    "\n",
    "class SegmentationDataset(Dataset):\n",
    "    def __init__(self, term = 'train', transform=None):\n",
    "        self.term = term \n",
    "        rgb_files, depth_files, label_files, meta_files = get_split_files(self.term)\n",
    "        self.image_dir = rgb_files\n",
    "        self.mask_dir = label_files\n",
    "        self.transform = transform\n",
    "        \n",
    "\n",
    "    def __len__(self):\n",
    "        return len(self.image_dir)\n",
    "\n",
    "    def __getitem__(self, index):\n",
    "        \n",
    "        image = np.array(Image.open(self.image_dir[index])) / 255\n",
    "        mask = np.array(Image.open(self.mask_dir[index]))\n",
    "        \n",
    "#         image = image[::4, ::4]\n",
    "#         mask = mask[::4, ::4]\n",
    "\n",
    "        image = image[::2, ::2]\n",
    "        mask = mask[::2, ::2]\n",
    "        \n",
    "        image = torch.from_numpy(image.astype(np.float32))\n",
    "        mask = torch.from_numpy(mask.astype(np.int64))\n",
    "        \n",
    "        \n",
    "        return image, mask"
   ]
  },
  {
   "cell_type": "code",
   "execution_count": 12,
   "id": "1bc7d083",
   "metadata": {},
   "outputs": [
    {
     "name": "stdout",
     "output_type": "stream",
     "text": [
      "torch.Size([4, 360, 640, 3]) torch.Size([4, 360, 640])\n"
     ]
    }
   ],
   "source": [
    "dataset = SegmentationDataset()\n",
    "\n",
    "dataloader = DataLoader(dataset = dataset, batch_size = batch_size, shuffle = True, num_workers = 0, drop_last = True)\n",
    "\n",
    "# Next 4 lines are just to see the data for batch_size = 4 and NOT a part of pipeline\n",
    "\n",
    "dataiter = iter(dataloader)\n",
    "data = dataiter.next()\n",
    "imgs, edgs = data\n",
    "print(imgs.shape, edgs.shape)"
   ]
  },
  {
   "cell_type": "code",
   "execution_count": 13,
   "id": "8cdb787b",
   "metadata": {},
   "outputs": [],
   "source": [
    "# model = UNET(in_channels=3, out_channels=82)\n",
    "model = Unet()\n",
    "model = model.to(device)\n",
    "criterion = nn.CrossEntropyLoss()\n",
    "optimizer = torch.optim.Adam(model.parameters(), lr = learning_rate)"
   ]
  },
  {
   "cell_type": "code",
   "execution_count": 14,
   "id": "e5f81214",
   "metadata": {},
   "outputs": [
    {
     "name": "stderr",
     "output_type": "stream",
     "text": [
      "/opt/conda/lib/python3.9/site-packages/torch/nn/functional.py:718: UserWarning: Named tensors and all their associated APIs are an experimental feature and subject to change. Please do not use them for anything important until they are released as stable. (Triggered internally at  /pytorch/c10/core/TensorImpl.h:1156.)\n",
      "  return torch.max_pool2d(input, kernel_size, stride, padding, dilation, ceil_mode)\n"
     ]
    },
    {
     "name": "stdout",
     "output_type": "stream",
     "text": [
      "epoch: 1/4, step 100/991, loss = 0.07830260694026947\n",
      "epoch: 1/4, step 200/991, loss = 0.0263142678886652\n",
      "epoch: 1/4, step 300/991, loss = 0.03468532860279083\n",
      "epoch: 1/4, step 400/991, loss = 0.012632087804377079\n",
      "epoch: 1/4, step 500/991, loss = 0.01122840866446495\n",
      "epoch: 1/4, step 600/991, loss = 0.004282912705093622\n",
      "epoch: 1/4, step 700/991, loss = 0.007443442475050688\n",
      "epoch: 1/4, step 800/991, loss = 0.00900236051529646\n",
      "epoch: 1/4, step 900/991, loss = 0.0065783062018454075\n",
      "epoch: 2/4, step 100/991, loss = 0.004144703503698111\n",
      "epoch: 2/4, step 200/991, loss = 0.004371971357613802\n",
      "epoch: 2/4, step 300/991, loss = 0.00436217337846756\n",
      "epoch: 2/4, step 400/991, loss = 0.00219906703568995\n",
      "epoch: 2/4, step 500/991, loss = 0.0042278035543859005\n",
      "epoch: 2/4, step 600/991, loss = 0.006598290987312794\n",
      "epoch: 2/4, step 700/991, loss = 0.00427057221531868\n",
      "epoch: 2/4, step 800/991, loss = 0.005866166669875383\n",
      "epoch: 2/4, step 900/991, loss = 0.0018818490207195282\n",
      "epoch: 3/4, step 100/991, loss = 0.003656151471659541\n",
      "epoch: 3/4, step 200/991, loss = 0.0012626380193978548\n",
      "epoch: 3/4, step 300/991, loss = 0.008550298400223255\n",
      "epoch: 3/4, step 400/991, loss = 0.005754322279244661\n",
      "epoch: 3/4, step 500/991, loss = 0.0012242395896464586\n",
      "epoch: 3/4, step 600/991, loss = 0.0018389731412753463\n",
      "epoch: 3/4, step 700/991, loss = 0.00522199459373951\n",
      "epoch: 3/4, step 800/991, loss = 0.0028143867384642363\n",
      "epoch: 3/4, step 900/991, loss = 0.005093444604426622\n",
      "epoch: 4/4, step 100/991, loss = 0.002348861889913678\n",
      "epoch: 4/4, step 200/991, loss = 0.00035680405562743545\n",
      "epoch: 4/4, step 300/991, loss = 0.000365378858987242\n",
      "epoch: 4/4, step 400/991, loss = 0.000942010956350714\n",
      "epoch: 4/4, step 500/991, loss = 0.0022779933642596006\n",
      "epoch: 4/4, step 600/991, loss = 0.0010182121768593788\n",
      "epoch: 4/4, step 700/991, loss = 0.0013035498559474945\n",
      "epoch: 4/4, step 800/991, loss = 0.0008796310285106301\n",
      "epoch: 4/4, step 900/991, loss = 0.000748702441342175\n"
     ]
    }
   ],
   "source": [
    "# Training loop\n",
    "n_total_steps = len(dataloader)   # n_total_steps = total num samples in dataset / batch_size\n",
    "\n",
    "for epoch in range(num_epochs):\n",
    "    for i, (images, labels) in enumerate(dataloader):\n",
    "        \n",
    "        images = images.permute(0,3,1,2).to(device)\n",
    "        labels = labels.to(device)\n",
    "        \n",
    "        # Forward\n",
    "        outputs = model(images)\n",
    "        loss = criterion(outputs, labels)\n",
    "        \n",
    "        # Gradients\n",
    "        optimizer.zero_grad()\n",
    "        loss.backward()\n",
    "        \n",
    "        # Weights update\n",
    "        optimizer.step()\n",
    "        \n",
    "        if (i+1) %100 == 0:\n",
    "            print(f'epoch: {epoch+1}/{num_epochs}, step {i+1}/{n_total_steps}, loss = {loss}')"
   ]
  },
  {
   "cell_type": "code",
   "execution_count": 15,
   "id": "1725ad8e",
   "metadata": {},
   "outputs": [],
   "source": [
    "PATH = './segmentation_model_halfsize.pth'\n",
    "torch.save(model.state_dict(), PATH)"
   ]
  },
  {
   "cell_type": "code",
   "execution_count": 196,
   "id": "d8b0410c",
   "metadata": {},
   "outputs": [
    {
     "data": {
      "text/plain": [
       "<matplotlib.image.AxesImage at 0x7f1b483f5fa0>"
      ]
     },
     "execution_count": 196,
     "metadata": {},
     "output_type": "execute_result"
    },
    {
     "data": {
      "image/png": "[encoded data removed]",
      "text/plain": [
       "<Figure size 432x288 with 1 Axes>"
      ]
     },
     "metadata": {
      "needs_background": "light"
     },
     "output_type": "display_data"
    }
   ],
   "source": [
    "plt.imshow(np.transpose(images.cpu().detach().numpy()[0],(1,2,0)))"
   ]
  },
  {
   "cell_type": "code",
   "execution_count": 197,
   "id": "53626cd9",
   "metadata": {},
   "outputs": [],
   "source": [
    "dataiter = iter(dataset)\n",
    "d = next(dataiter)\n",
    "image, label = d"
   ]
  },
  {
   "cell_type": "code",
   "execution_count": 198,
   "id": "f760587d",
   "metadata": {},
   "outputs": [],
   "source": [
    "d = next(dataiter)\n",
    "image, label = d"
   ]
  },
  {
   "cell_type": "code",
   "execution_count": 199,
   "id": "531c7235",
   "metadata": {},
   "outputs": [
    {
     "data": {
      "text/plain": [
       "torch.Size([1, 3, 180, 320])"
      ]
     },
     "execution_count": 199,
     "metadata": {},
     "output_type": "execute_result"
    }
   ],
   "source": [
    "torch.unsqueeze(image.permute(2,0,1),0).shape"
   ]
  },
  {
   "cell_type": "code",
   "execution_count": 202,
   "id": "4f04204e",
   "metadata": {},
   "outputs": [
    {
     "data": {
      "text/plain": [
       "torch.Size([180, 320, 3])"
      ]
     },
     "execution_count": 202,
     "metadata": {},
     "output_type": "execute_result"
    }
   ],
   "source": [
    "image.shape"
   ]
  },
  {
   "cell_type": "code",
   "execution_count": 200,
   "id": "c6b763db",
   "metadata": {},
   "outputs": [],
   "source": [
    "dis_label = np.argmax(torch.squeeze(model(torch.unsqueeze(image.permute(2,0,1),0).to(DEVICE)),0).cpu().detach().numpy(),0)"
   ]
  },
  {
   "cell_type": "code",
   "execution_count": 201,
   "id": "49d1cf9d",
   "metadata": {},
   "outputs": [
    {
     "data": {
      "text/plain": [
       "<matplotlib.image.AxesImage at 0x7f1b4825e2e0>"
      ]
     },
     "execution_count": 201,
     "metadata": {},
     "output_type": "execute_result"
    },
    {
     "data": {
      "image/png": "[encoded data removed]",
      "text/plain": [
       "<Figure size 1080x720 with 3 Axes>"
      ]
     },
     "metadata": {
      "needs_background": "light"
     },
     "output_type": "display_data"
    }
   ],
   "source": [
    "plt.figure(figsize=(15, 10))\n",
    "plt.subplot(1, 3, 1)\n",
    "plt.imshow(image)\n",
    "plt.subplot(1, 3, 2)\n",
    "plt.imshow(COLOR_PALETTE[label])\n",
    "plt.subplot(1, 3, 3)\n",
    "plt.imshow(COLOR_PALETTE[dis_label])  # draw colorful segmentation"
   ]
  },
  {
   "cell_type": "code",
   "execution_count": 194,
   "id": "8f156ea3",
   "metadata": {},
   "outputs": [],
   "source": [
    "PATH = './segmentation_model1.pth.tar'\n",
    "torch.save(model.state_dict(), PATH)"
   ]
  },
  {
   "cell_type": "code",
   "execution_count": 195,
   "id": "63e1fc38",
   "metadata": {},
   "outputs": [],
   "source": [
    "PATH = './segmentation_model1.pth'\n",
    "torch.save(model.state_dict(), PATH)"
   ]
  },
  {
   "cell_type": "code",
   "execution_count": null,
   "id": "74ce1c12",
   "metadata": {},
   "outputs": [],
   "source": []
  }
 ],
 "metadata": {
  "kernelspec": {
   "display_name": "Python 3 (clean)",
   "language": "python",
   "name": "python3_clean"
  },
  "language_info": {
   "codemirror_mode": {
    "name": "ipython",
    "version": 3
   },
   "file_extension": ".py",
   "mimetype": "text/x-python",
   "name": "python",
   "nbconvert_exporter": "python",
   "pygments_lexer": "ipython3",
   "version": "3.9.5"
  }
 },
 "nbformat": 4,
 "nbformat_minor": 5
}
